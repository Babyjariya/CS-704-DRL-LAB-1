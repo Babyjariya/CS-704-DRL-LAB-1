{
  "nbformat": 4,
  "nbformat_minor": 0,
  "metadata": {
    "colab": {
      "provenance": []
    },
    "kernelspec": {
      "name": "python3",
      "display_name": "Python 3"
    },
    "language_info": {
      "name": "python"
    }
  },
  "cells": [
    {
      "cell_type": "code",
      "execution_count": 80,
      "metadata": {
        "id": "-Vws06z17Spn",
        "colab": {
          "base_uri": "https://localhost:8080/"
        },
        "outputId": "7dfa0403-79bc-42a1-9210-bced1b908ac2"
      },
      "outputs": [
        {
          "output_type": "stream",
          "name": "stdout",
          "text": [
            "[0.         0.11111111 0.22222222 0.33333333 0.44444444 0.55555556\n",
            " 0.66666667 0.77777778 0.88888889 1.        ]\n",
            "1d array: [1 2 3 4 5]\n",
            "2D array:\n",
            " [[1 2 3]\n",
            " [4 5 6]]\n",
            "zeros Arry:\n",
            " [[0. 0. 0.]\n",
            " [0. 0. 0.]\n",
            " [0. 0. 0.]]\n",
            "ones Arry:\n",
            " [[1. 1. 1.]\n",
            " [1. 1. 1.]\n",
            " [1. 1. 1.]]\n"
          ]
        }
      ],
      "source": [
        "#basic array creation\n",
        "\n",
        "import numpy as np\n",
        "\n",
        "#create a 1D array\n",
        "array_1d = np.array([1,2,3,4,5])\n",
        "print(\"1d array:\",array_1d)\n",
        "\n",
        "#create a 2D array\n",
        "array_2d = np.array([[1,2,3],[4,5,6 ]])\n",
        "print(\"2D array:\\n\",array_2d)\n",
        "\n",
        "#create an array with zeros\n",
        "zeros_array = np.zeros((3,3))\n",
        "print(\"zeros Arry:\\n\",zeros_array)\n",
        "\n",
        "#create an array with ones\n",
        "ones_array = np.ones((3,3))\n",
        "print(\"ones Arry:\\n\",ones_array)\n",
        "\n",
        "\n"
      ]
    },
    {
      "cell_type": "code",
      "source": [
        "#Array operation\n",
        "a=np.array([1,2,3])\n",
        "b=np.array([4,5,6])\n",
        "#Addition\n",
        "sum_array=np.add(a,b)\n",
        "print(\"sum:\",sum_array)\n",
        "#Subtraction\n",
        "diff_array=np.subtract(a,b)\n",
        "print(\"difference:\",diff_array)\n",
        "#Multiplication\n",
        "product_array=np.multiply(a,b)\n",
        "print(\"product:\",product_array)\n",
        "#Divison\n",
        "quotient_array=np.divide(a,b)\n",
        "print(\"quotient:\",quotient_array)\n"
      ],
      "metadata": {
        "id": "OqnTh7X27pgg",
        "colab": {
          "base_uri": "https://localhost:8080/"
        },
        "outputId": "2ba0ed0c-7f31-4316-f043-a98c0d8a33cd"
      },
      "execution_count": 81,
      "outputs": [
        {
          "output_type": "stream",
          "name": "stdout",
          "text": [
            "sum: [5 7 9]\n",
            "difference: [-3 -3 -3]\n",
            "product: [ 4 10 18]\n",
            "quotient: [0.25 0.4  0.5 ]\n"
          ]
        }
      ]
    },
    {
      "cell_type": "code",
      "source": [
        "#matrix multiplication\n",
        "import numpy as np\n",
        "\n",
        "# create two matrix\n",
        "\n",
        "matrix_a=np.array([[1,2],[3,4]])\n",
        "matrix_b=np.array([[5,6],[7,8]])\n",
        "\n",
        "#matrix multiplication\n",
        "\n",
        "matrix_product=np.dot(matrix_a,matrix_b)\n",
        "print(\"matrix product:\\n\",matrix_product)\n"
      ],
      "metadata": {
        "colab": {
          "base_uri": "https://localhost:8080/"
        },
        "id": "37yinJsGG8UV",
        "outputId": "3ffd5eb4-2156-4793-8482-ae81a7809bef"
      },
      "execution_count": 103,
      "outputs": [
        {
          "output_type": "stream",
          "name": "stdout",
          "text": [
            "matrix product:\n",
            " [[19 22]\n",
            " [43 50]]\n"
          ]
        }
      ]
    },
    {
      "cell_type": "code",
      "source": [
        "#broadcasting\n",
        "import numpy as np\n",
        "\n",
        "# create an array and scalar\n",
        "\n",
        "array=np.array(([1,2,3]))\n",
        "scalar=2\n",
        "\n",
        "#broadcasting\n",
        "\n",
        "broadcasted_array=array*scalar\n",
        "print(\"Broadcasted Array:\",broadcasted_array)\n",
        "\n"
      ],
      "metadata": {
        "colab": {
          "base_uri": "https://localhost:8080/"
        },
        "id": "ws1jI0aEIB8G",
        "outputId": "b5e5cfd7-2af0-4bc9-dac6-80cb50f35376"
      },
      "execution_count": 83,
      "outputs": [
        {
          "output_type": "stream",
          "name": "stdout",
          "text": [
            "Broadcasted Array: [2 4 6]\n"
          ]
        }
      ]
    },
    {
      "cell_type": "code",
      "source": [
        "#statistical Operation\n",
        "import numpy as np\n",
        "\n",
        "#create an array\n",
        "data=np.array([1,2,3,4,5])\n",
        "\n",
        "#mean\n",
        "mean_value=np.mean(data)\n",
        "print(\"mean:\",mean_value)\n",
        "\n",
        "#Standard deviation\n",
        "std_value=np.std(data)\n",
        "print(\"standard deviation:\",std_value)\n",
        "\n",
        "#sum\n",
        "sum_value=np.sum(data)\n",
        "print(\"sum:\",sum_value)"
      ],
      "metadata": {
        "id": "JIyUFIlJI7i9",
        "colab": {
          "base_uri": "https://localhost:8080/"
        },
        "outputId": "e9b8d95e-497f-4e37-ac6a-7379d5c59799"
      },
      "execution_count": 84,
      "outputs": [
        {
          "output_type": "stream",
          "name": "stdout",
          "text": [
            "mean: 3.0\n",
            "standard deviation: 1.4142135623730951\n",
            "sum: 15\n"
          ]
        }
      ]
    },
    {
      "cell_type": "code",
      "source": [
        "#reshaping arrays\n",
        "\n",
        "import numpy as np\n",
        "#create a 1D array\n",
        "array=np.array([1,2,3,4,5,6])\n",
        "\n",
        "#reshap to 2*3\n",
        "reshaped_array=array.reshape((2,3))\n",
        "print(\"reshaped array:\\n\",reshaped_array)\n",
        "\n",
        "#reshape to 3*2\n",
        "reshaped_array=array.reshape((3,2))\n",
        "print(\"reshaped array:\\n\",reshaped_array)"
      ],
      "metadata": {
        "id": "luuS0Pajyx6c",
        "colab": {
          "base_uri": "https://localhost:8080/"
        },
        "outputId": "f1fffe3a-8330-4222-fcf7-a73ac47caf53"
      },
      "execution_count": 85,
      "outputs": [
        {
          "output_type": "stream",
          "name": "stdout",
          "text": [
            "reshaped array:\n",
            " [[1 2 3]\n",
            " [4 5 6]]\n",
            "reshaped array:\n",
            " [[1 2]\n",
            " [3 4]\n",
            " [5 6]]\n"
          ]
        }
      ]
    },
    {
      "cell_type": "code",
      "source": [
        "#element-wise operation\n",
        "\n",
        "import numpy as np\n",
        "\n",
        "#create two arrays\n",
        "arrays_a=np.array([1,2,3])\n",
        "arrays_b=np.array([4,5,6])\n",
        "\n",
        "#Element-wise addition\n",
        "add_result=arrays_a+arrays_b\n",
        "print(\"element-wise addition:\",add_result)\n",
        "\n",
        "#Element-wise multiplication\n",
        "multiply_result=arrays_a*arrays_b\n",
        "print(\"element-wise multiplication :\",multiply_result)"
      ],
      "metadata": {
        "id": "VR2_79nf0mZ_",
        "colab": {
          "base_uri": "https://localhost:8080/"
        },
        "outputId": "978d3ba1-1e1a-4764-bdd8-b0c22a7c2a89"
      },
      "execution_count": 86,
      "outputs": [
        {
          "output_type": "stream",
          "name": "stdout",
          "text": [
            "element-wise addition: [5 7 9]\n",
            "element-wise multiplication : [ 4 10 18]\n"
          ]
        }
      ]
    },
    {
      "cell_type": "code",
      "source": [
        "#Slicing and indexing\n",
        "import numpy as np\n",
        "\n",
        "#create 2D arrays\n",
        "array_2d=np.array([[1,2,3],[4,5,6],[7,8,9]])\n",
        "\n",
        "#accessing an element\n",
        "element=array_2d[1,1]\n",
        "print(\"Element at [1,1:]\",element)\n",
        "\n",
        "#Accessing a row\n",
        "row=array_2d[1,:]\n",
        "print(\"row 1:\",row)\n",
        "\n",
        "#Accessing a column\n",
        "column=array_2d[:,1]\n",
        "print(\"column 1:\",column)\n"
      ],
      "metadata": {
        "id": "Lov4zC4X26Xe",
        "colab": {
          "base_uri": "https://localhost:8080/"
        },
        "outputId": "951c5604-7b77-44b1-d0d7-1713c0450e20"
      },
      "execution_count": 87,
      "outputs": [
        {
          "output_type": "stream",
          "name": "stdout",
          "text": [
            "Element at [1,1:] 5\n",
            "row 1: [4 5 6]\n",
            "column 1: [2 5 8]\n"
          ]
        }
      ]
    },
    {
      "cell_type": "code",
      "source": [
        "#creating reandom arrays\n",
        "import numpy as np\n",
        "\n",
        "#create a random array\n",
        "random_array=np.random.rand(3,3)\n",
        "print(\"random array:\\n\",random_array)\n",
        "\n",
        "#create a random intrger array\n",
        "random_int_array=np.random .randint(0,10,(3,3))\n",
        "print(\"random integer array:\\n\",random_int_array)\n"
      ],
      "metadata": {
        "colab": {
          "base_uri": "https://localhost:8080/"
        },
        "id": "Ou0jILhp4jV-",
        "outputId": "face85d7-25a1-4f71-b1f3-e03f2897ef6a"
      },
      "execution_count": 88,
      "outputs": [
        {
          "output_type": "stream",
          "name": "stdout",
          "text": [
            "random array:\n",
            " [[0.87732187 0.40288073 0.77208607]\n",
            " [0.09387952 0.79046376 0.2394778 ]\n",
            " [0.03856122 0.74342406 0.60197651]]\n",
            "random integer array:\n",
            " [[3 1 1]\n",
            " [4 4 1]\n",
            " [6 4 3]]\n"
          ]
        }
      ]
    },
    {
      "cell_type": "code",
      "source": [
        "#Stacking and concatending Arrays\n",
        "import numpy as np\n",
        "\n",
        "#create 2 arrays\n",
        "arrays_a=np.array([1,2,3])\n",
        "arrays_b=np.array([4,5,6])\n",
        "\n",
        "#vertical stack\n",
        "v_stack=np.vstack((arrays_a,arrays_b))\n",
        "print(\"vertical stack:\\n\",v_stack)\n",
        "\n",
        "#Horizontal Stack\n",
        "h_stack=np.hstack((arrays_a,arrays_b))\n",
        "print(\"Horizontal Stack:\\n\",h_stack)"
      ],
      "metadata": {
        "id": "ASCvgnDt6-Qr",
        "colab": {
          "base_uri": "https://localhost:8080/"
        },
        "outputId": "f81ceba4-f2bb-4f71-c258-264e4d93f10f"
      },
      "execution_count": 89,
      "outputs": [
        {
          "output_type": "stream",
          "name": "stdout",
          "text": [
            "vertical stack:\n",
            " [[1 2 3]\n",
            " [4 5 6]]\n",
            "Horizontal Stack:\n",
            " [1 2 3 4 5 6]\n"
          ]
        }
      ]
    },
    {
      "cell_type": "code",
      "execution_count": 90,
      "metadata": {
        "colab": {
          "base_uri": "https://localhost:8080/"
        },
        "outputId": "5e7addf7-055a-44ed-e698-06f5f7255541",
        "id": "iOm7FG3xZja-"
      },
      "outputs": [
        {
          "output_type": "stream",
          "name": "stdout",
          "text": [
            "[0.         0.11111111 0.22222222 0.33333333 0.44444444 0.55555556\n",
            " 0.66666667 0.77777778 0.88888889 1.        ]\n",
            "[88 30 61 39 18 96 92 96 92 73 20  7  3 80  2 86  6 97 32 57]\n",
            "[[7 7 7 7]\n",
            " [7 7 7 7]\n",
            " [7 7 7 7]\n",
            " [7 7 7 7]]\n",
            "[3.14 3.14 3.14 3.14 3.14 3.14 3.14 3.14 3.14 3.14]\n",
            "[[1 2 3]\n",
            " [4 5 6]\n",
            " [7 8 9]]\n"
          ]
        }
      ],
      "source": [
        "#basic array creation\n",
        "# numpy practice assignment\n",
        "\n",
        "import numpy as np\n",
        "\n",
        "#create an array with 10 equally spaced no. b/w 0&1\n",
        "arr=np.linspace(0,1,10)\n",
        "print(arr)\n",
        "\n",
        "#create  an 1d array of 20 random integer b/w 1 and 100\n",
        "random_int_array=np.random .randint(1,100,20)\n",
        "print(random_int_array)\n",
        "\n",
        "# create an 2d array with the shape (4,4) filled with the value 7\n",
        "arr=np.full((4,4),7)\n",
        "print(arr)\n",
        "\n",
        "# create a 1d array of 10 element with the same value 3.14\n",
        "arr=np.full (10,3.14)\n",
        "print(arr)\n",
        "\n",
        "# create an 2d array with the shape (3,3)with values ranging from 1to9\n",
        "arr=np.arange(1,10).reshape(3,3)\n",
        "print(arr)\n",
        "\n"
      ]
    },
    {
      "cell_type": "code",
      "source": [
        "#Array Operation\n",
        "\n",
        "import numpy as np\n",
        "\n",
        "# create 2 array and perform element wise subtraction\n",
        "\n",
        "arr_a=np.array([1,3,4,7,9])\n",
        "arr_b=np.array([2,4,6,8,10])\n",
        "diff_result=np.subtract(arr_a,arr_b)\n",
        "print(\"elemant-wise subtraction :\" ,diff_result)\n",
        "\n",
        "#multiply array a by 3\n",
        "arr_a=np.array([2,4,6,8])\n",
        "multiply_result=arr_a*3\n",
        "print(\"element-wise multiplication :\",multiply_result)\n",
        "\n",
        "#divide array a by 2\n",
        "arr_a=np.array([10,20,30,40])\n",
        "div_result=arr_a/2\n",
        "print(\"element-wise division :\",div_result)\n",
        "\n",
        "#find the element-wise modulus of 2 array\n",
        "arr_a=np.array([5,10,15])\n",
        "arr_b=np.array([2,3,4])\n",
        "mod_result=np.mod(arr_a,arr_b)\n",
        "print(\"element-wise modulus:\",mod_result)\n",
        "\n",
        "\n",
        "# create 2 arays & compute the dot product\n",
        "\n",
        "arr_a=np.array([1,2,3])\n",
        "arr_b=np.array([4,5,6])\n",
        "dot_result=np.dot(arr_a,arr_b)\n",
        "print(\"Dot product :\",dot_result)\n",
        "\n",
        "\n",
        "\n",
        "\n"
      ],
      "metadata": {
        "colab": {
          "base_uri": "https://localhost:8080/"
        },
        "id": "qrxJhMUCbg7T",
        "outputId": "94b2ce37-1597-4d82-ff14-13285eaffd91"
      },
      "execution_count": 101,
      "outputs": [
        {
          "output_type": "stream",
          "name": "stdout",
          "text": [
            "elemant-wise subtraction : [-1 -1 -2 -1 -1]\n",
            "element-wise multiplication : [ 6 12 18 24]\n",
            "element-wise division : [ 5. 10. 15. 20.]\n",
            "element-wise modulus: [1 1 3]\n",
            "Dot product : 32\n"
          ]
        }
      ]
    },
    {
      "cell_type": "code",
      "source": [
        "#Matrix Multiplication\n",
        "\n",
        "import numpy as np\n",
        "\n",
        " #create two matrics and perform matrix multipliction\n",
        "\n",
        "matrix_a=np.array([[2,3],[4,5]])\n",
        "matrix_b=np.array([[1,0],[0,1]])\n",
        "matrix_product=np.dot(matrix_a,matrix_b)\n",
        "print(\"matrix product:\\n\",matrix_product)\n",
        "\n",
        "#Multipiy a 3*3 matrix with a  3*1 vector\n",
        "\n",
        "matrix_a=([[1,2,3],[4,5,6],[7,8,9]])\n",
        "vector_b=([[10],[20],[30]])\n",
        "matrix_product=np.dot(matrix_a,vector_b)\n",
        "print(\"matrix product:\\n\",matrix_product)\n",
        "\n",
        "#create a 4*4 identity matrix and multiply it by a 4*4 matrix with filled\n",
        "# with random integer\n",
        "\n",
        "identity_matrix=np.eye(4)\n",
        "random_matrix=np.random.randint(1,10,(4,4))\n",
        "result_matrix=np.dot(identity_matrix,random_matrix)\n",
        "print(\"Identity Matrix:\\n\",identity_matrix)\n",
        "print(\"Random matrix:\\n\",random_matrix)\n",
        "print(\"Result Matrix:\\n\",result_matrix)\n",
        "\n",
        "\n",
        "#perform matrix multiplication on two 3*3 matrix\n",
        "matrix_a=([[1,2,3],[4,5,6],[7,8,9]])\n",
        "matrix_b=([[9,8,7],[6,5,4],[3,2,1]])\n",
        "matrix_product=np.dot(matrix_a,matrix_b)\n",
        "print(\"matrix product:\\n\",matrix_product)\n",
        "\n",
        "#create a 2*3 MATRIX AND a 3*2 matrix and perform multiplication\n",
        "matrix_a=([[1,2,3,],[4,5,6]])\n",
        "matrix_b=([[7,8],[9,10],[11,12]])\n",
        "matrix_product=np.dot(matrix_a,matrix_b)\n",
        "print(\"matrix product:\\n\",matrix_product)\n"
      ],
      "metadata": {
        "colab": {
          "base_uri": "https://localhost:8080/"
        },
        "id": "CBNwqmtg0yuR",
        "outputId": "cdda741c-858e-4ccd-c1c4-8381e6fe2025"
      },
      "execution_count": 100,
      "outputs": [
        {
          "output_type": "stream",
          "name": "stdout",
          "text": [
            "matrix product:\n",
            " [[2 3]\n",
            " [4 5]]\n",
            "matrix product:\n",
            " [[140]\n",
            " [320]\n",
            " [500]]\n",
            "Identity Matrix:\n",
            " [[1. 0. 0. 0.]\n",
            " [0. 1. 0. 0.]\n",
            " [0. 0. 1. 0.]\n",
            " [0. 0. 0. 1.]]\n",
            "Random matrix:\n",
            " [[9 3 8 8]\n",
            " [8 1 2 7]\n",
            " [4 1 2 3]\n",
            " [7 8 4 8]]\n",
            "Result Matrix:\n",
            " [[9. 3. 8. 8.]\n",
            " [8. 1. 2. 7.]\n",
            " [4. 1. 2. 3.]\n",
            " [7. 8. 4. 8.]]\n",
            "matrix product:\n",
            " [[ 30  24  18]\n",
            " [ 84  69  54]\n",
            " [138 114  90]]\n",
            "matrix product:\n",
            " [[ 58  64]\n",
            " [139 154]]\n"
          ]
        }
      ]
    },
    {
      "cell_type": "code",
      "source": [
        "# BROADCASTING\n",
        "\n",
        "import numpy as np\n",
        "\n",
        " #create a 1D array and subtract a scalar value 5 using broadcasting\n",
        "\n",
        "array=np.array([10,20,30])\n",
        "scalar=5\n",
        "\n",
        "broadcasted_array=array-scalar\n",
        "print(\"Broadcasted Array:\\n\",broadcasted_array)\n",
        "\n",
        "#create a 3*3 array and 3*1 array,and add them\n",
        "\n",
        "array_a=np.array([[1,2,3],[4,5,6],[7,8,9]])\n",
        "array_b=np.array([[1,2,3]])\n",
        "broadcasted_array=array_a*array_b\n",
        "print(\"Broadcasted Array:\\n\",broadcasted_array)\n",
        "\n",
        "#Divide a 4*4 array by a scalar value 2\n",
        "\n",
        "array_a=np.array([[1,2,3,1],[4,5,6,1],[7,8,9,1],[10,20,30,1]])\n",
        "saclar=2\n",
        "broadcasted_array=array_a/scalar\n",
        "print(\"Broadcasted Array:\\n\",broadcasted_array)\n",
        "\n",
        "# create a 3*3 array and add 3 to each element\n",
        "\n",
        "array_a=np.array([[1,2,3],[4,5,6],[7,8,9]])\n",
        "scalar=3\n",
        "broadcasted_array=array_a+scalar\n",
        "print(\"Broadcasted Array:\\n\",broadcasted_array)\n",
        "\n",
        "# multiply a 1D array of shape (5,) by  a 2D array of shape (5,5)\n",
        "arr1=np.array([1,2,3,4,5])\n",
        "arr2=np.array([[1,2,3,4,5],[6,7,8,9,10],[11,12,13,14,15],[16,17,18,19,20],[21,22,23,24,25]])\n",
        "broadcasted_array=arr1[:np.newaxis]*arr2\n",
        "print(\"broadcasted array:\\n\",broadcasted_array)"
      ],
      "metadata": {
        "id": "4fbcPVZ_CXGT",
        "colab": {
          "base_uri": "https://localhost:8080/"
        },
        "outputId": "35ef9bc8-9e20-4cef-8555-3c06ce0dd06f"
      },
      "execution_count": 93,
      "outputs": [
        {
          "output_type": "stream",
          "name": "stdout",
          "text": [
            "Broadcasted Array:\n",
            " [ 5 15 25]\n",
            "Broadcasted Array:\n",
            " [[ 1  4  9]\n",
            " [ 4 10 18]\n",
            " [ 7 16 27]]\n",
            "Broadcasted Array:\n",
            " [[0.2 0.4 0.6 0.2]\n",
            " [0.8 1.  1.2 0.2]\n",
            " [1.4 1.6 1.8 0.2]\n",
            " [2.  4.  6.  0.2]]\n",
            "Broadcasted Array:\n",
            " [[ 4  5  6]\n",
            " [ 7  8  9]\n",
            " [10 11 12]]\n",
            "broadcasted array:\n",
            " [[  1   4   9  16  25]\n",
            " [  6  14  24  36  50]\n",
            " [ 11  24  39  56  75]\n",
            " [ 16  34  54  76 100]\n",
            " [ 21  44  69  96 125]]\n"
          ]
        }
      ]
    },
    {
      "cell_type": "code",
      "source": [
        "\n",
        "#Statical operation\n",
        "\n",
        "import numpy as np\n",
        "\n",
        "#calculate the median of the median of the array\n",
        "\n",
        "data=np.array([1,2,3,4,5,6,7,8,9,10])\n",
        "median_value=np.median(data)\n",
        "print(\"median:\",median_value)\n",
        "\n",
        "#calculate the mode of the array\n",
        "from scipy import stats\n",
        "data=np.array([1,2,2,3,4,4,4,5,6])\n",
        "mode_value=stats.mode(data)\n",
        "print(\"mode:\",mode_value)\n",
        "\n",
        "#calculate the range of the array\n",
        "data=([10,20,30,40,50])\n",
        "range_value=np.ptp(data)\n",
        "print(\"range:\",range_value)\n",
        "\n",
        "#calculate the 25 percentile of the array\n",
        "data=np.array([1,2,3,4,5,6,7,8,9,10])\n",
        "percentile_value=np.percentile(data,25)\n",
        "print(\"percentile:\",percentile_value)\n",
        "\n",
        "#calcute the correlation coefficient b/w to array\n",
        "data_a=np.array([1,2,3,4,5])\n",
        "data_b=np.array([2,4,6,8,10])\n",
        "x_result=np.corrcoef(data_a,data_b)\n",
        "print(\"correlation coefficient:\\n\",x_result)"
      ],
      "metadata": {
        "colab": {
          "base_uri": "https://localhost:8080/"
        },
        "id": "oFarB-E0QQqB",
        "outputId": "8146fc5e-ddf2-42ee-80f9-1f72a2bf3d60"
      },
      "execution_count": 94,
      "outputs": [
        {
          "output_type": "stream",
          "name": "stdout",
          "text": [
            "median: 5.5\n",
            "mode: ModeResult(mode=4, count=3)\n",
            "range: 40\n",
            "percentile: 3.25\n",
            "correlation coefficient:\n",
            " [[1. 1.]\n",
            " [1. 1.]]\n"
          ]
        }
      ]
    },
    {
      "cell_type": "code",
      "source": [
        "#Reshaping Arrays\n",
        "\n",
        "import numpy as np\n",
        "\n",
        "#reshape a 1D array of 12 element to a 3*4 array\n",
        "\n",
        "array=np.array([1,2,3,4,5,6,7,8,9,10,11,12])\n",
        "reshaped_array=array.reshape((3,4))\n",
        "print(\"reshaped array:\\n\",reshaped_array)\n",
        "\n",
        "#reshape a 2D array of shape (6,2)to(3,4)\n",
        "\n",
        "array=np.array([[1,2],[3,4],[5,6],[7,8],[9,8],[7,6]])\n",
        "reshaped_array=array.reshape((3,4))\n",
        "print(\"reshaped array:\\n\",reshaped_array)\n",
        "\n",
        "#create a 4*4 array and flatten it\n",
        "array=np.array([[1,2,3,4],[2,4,6,8],[5,6,7,8],[9,8,7,6]])\n",
        "flattened_value=array.flatten()\n",
        "print(\"original array;\\n\",array)\n",
        "print(\"flattened array:\\n\",flattened_value)\n",
        "\n",
        "# reshape a 3D array of shape\n",
        "arr=np.arange(24).reshape(2,3,4)\n",
        "reshaped_array=arr.reshape((4,3,2))\n",
        "print(\"original array;\\n\",array)\n",
        "print(\"reshaped array:\\n\",reshaped_array)\n",
        "\n",
        "#reshape a 1D array to a 2d array with 1 row and many columns\n",
        "\n",
        "\n",
        "array=np.array([1,2,3,4,5,6,7,8])\n",
        "reshaped_array=array.reshape((1,-1))\n",
        "print(\"reshaped array:\\n\",reshaped_array)\n"
      ],
      "metadata": {
        "colab": {
          "base_uri": "https://localhost:8080/"
        },
        "id": "Sc2dijF1Y-w6",
        "outputId": "b32148e3-9407-42c9-e94d-7b9c787f77ac"
      },
      "execution_count": 95,
      "outputs": [
        {
          "output_type": "stream",
          "name": "stdout",
          "text": [
            "reshaped array:\n",
            " [[ 1  2  3  4]\n",
            " [ 5  6  7  8]\n",
            " [ 9 10 11 12]]\n",
            "reshaped array:\n",
            " [[1 2 3 4]\n",
            " [5 6 7 8]\n",
            " [9 8 7 6]]\n",
            "original array;\n",
            " [[1 2 3 4]\n",
            " [2 4 6 8]\n",
            " [5 6 7 8]\n",
            " [9 8 7 6]]\n",
            "flattened array:\n",
            " [1 2 3 4 2 4 6 8 5 6 7 8 9 8 7 6]\n",
            "original array;\n",
            " [[1 2 3 4]\n",
            " [2 4 6 8]\n",
            " [5 6 7 8]\n",
            " [9 8 7 6]]\n",
            "reshaped array:\n",
            " [[[ 0  1]\n",
            "  [ 2  3]\n",
            "  [ 4  5]]\n",
            "\n",
            " [[ 6  7]\n",
            "  [ 8  9]\n",
            "  [10 11]]\n",
            "\n",
            " [[12 13]\n",
            "  [14 15]\n",
            "  [16 17]]\n",
            "\n",
            " [[18 19]\n",
            "  [20 21]\n",
            "  [22 23]]]\n",
            "reshaped array:\n",
            " [[1 2 3 4 5 6 7 8]]\n"
          ]
        }
      ]
    },
    {
      "cell_type": "code",
      "source": [
        "#ELEMENT-WISE OPERATION\n",
        "import numpy as np\n",
        "\n",
        "#create two array end perform division\n",
        "arr_a=np.array([1,3,5])\n",
        "arr_b=np.array([2,4,6])\n",
        "div_result=(arr_a/arr_b)\n",
        "print(\"element-wise division :\",div_result)\n",
        "\n",
        "#create two array end perform modulus\n",
        "arr_b=np.array([1,3,5])\n",
        "arr_a=np.array([2,4,6])\n",
        "mod_result=np.mod(arr_a,arr_b)\n",
        "print(\"element-wise modulus:\",mod_result)\n",
        "\n",
        "#add 10 to each element in the array\n",
        "arr=np.array([1,2,3,4,5])\n",
        "sum_result=arr+10\n",
        "print(\"element-wise addition :\",sum_result)\n",
        "\n",
        "#subtract 5 to each element in the array\n",
        "arr=np.array([10,20,30,40,50])\n",
        "diff_result=arr-5\n",
        "print(\"element-wise subtraction :\",diff_result)\n",
        "\n",
        "\n",
        "#square of each element\n",
        "arr_c=np.array([1,2,3,4,5])\n",
        "squ_result=arr_c**2\n",
        "print(\"square of each element:\",squ_result)\n"
      ],
      "metadata": {
        "colab": {
          "base_uri": "https://localhost:8080/"
        },
        "id": "eF2DzUORhN2d",
        "outputId": "3bd37260-ea29-42c6-cb4e-5c8ec7945ccb"
      },
      "execution_count": 96,
      "outputs": [
        {
          "output_type": "stream",
          "name": "stdout",
          "text": [
            "element-wise division : [0.5        0.75       0.83333333]\n",
            "element-wise modulus: [0 1 1]\n",
            "element-wise addition : [11 12 13 14 15]\n",
            "element-wise subtraction : [ 5 15 25 35 45]\n",
            "square of each element: [ 1  4  9 16 25]\n"
          ]
        }
      ]
    },
    {
      "cell_type": "code",
      "source": [
        "#SLICING AND INDEXING\n",
        "import numpy as np\n",
        "\n",
        "#create 3D array access the element[1,1,1]\n",
        "arr_3d=np.array([[[1,2,3],[4,5,6]],[[7,8,9],[10,11,12]]])\n",
        "element=arr_3d[1,1,1]\n",
        "print(\"Element at [1,1,1]:\",element)\n",
        "\n",
        "#slice the first layer ofa 3d array\n",
        "arr_3d=np.array([[[1,2,3],[4,5,6]],[[7,8,9],[10,11,12]]])\n",
        "element=arr_3d[0]\n",
        "print(\"Element at:\\n\",element)\n",
        "\n",
        "#access all element in the last row of the array\n",
        "arr_2d=np.array([[10,20,30],[40,50,60],[70,80,90]])\n",
        "element=arr_2d[-1]\n",
        "print(\"last row:\\n\",element)\n",
        "\n",
        "#access all element in the first column of the array\n",
        "arr_2d=np.array([[10,20,30],[40,50,60],[70,80,90]])\n",
        "element=arr_2d[:,0]\n",
        "print(\"first column:\\n\",element)\n",
        "\n",
        "#slice the last two rows and column of the array\n",
        "arr_2d=np.array([[10,20,30],[40,50,60],[70,80,90]])\n",
        "element=arr_2d[-2:,-2:]\n",
        "print(\"original array;\\n\",arr_2d)\n",
        "print(\"last 2 row ans column:\\n\",element)\n"
      ],
      "metadata": {
        "colab": {
          "base_uri": "https://localhost:8080/"
        },
        "id": "0cBLuxcglXqS",
        "outputId": "41914a24-b6c4-4e72-8beb-76c2ebaed381"
      },
      "execution_count": 97,
      "outputs": [
        {
          "output_type": "stream",
          "name": "stdout",
          "text": [
            "Element at [1,1,1]: 11\n",
            "Element at:\n",
            " [[1 2 3]\n",
            " [4 5 6]]\n",
            "last row:\n",
            " [70 80 90]\n",
            "first column:\n",
            " [10 40 70]\n",
            "original array;\n",
            " [[10 20 30]\n",
            " [40 50 60]\n",
            " [70 80 90]]\n",
            "last 2 row ans column:\n",
            " [[50 60]\n",
            " [80 90]]\n"
          ]
        }
      ]
    },
    {
      "cell_type": "code",
      "source": [
        "#CREATING RANDOM ARRAYS\n",
        "import numpy as np\n",
        "\n",
        "#genetate a random array of 20 element with values b/w 0 & 1\n",
        "random_array=np.random.randint(0,1,20)\n",
        "print(\"random array:\",random_array)\n",
        "\n",
        "#create a 4*4 array with integer b/w 10 and 20\n",
        "random_array=np.random.randint(10,20,(4,4))\n",
        "print(\"random array:\\n\",random_array)\n",
        "\n",
        "#create a 3*3 array with integer b/w -1and 1\n",
        "lower_bound=-1\n",
        "upper_bound=1\n",
        "random_array=np.random.rand(3,3)*(upper_bound-lower_bound)+lower_bound\n",
        "print(\"random array:\\n\",random_array)\n",
        "\n",
        "#genetate a random array of 15 element with values b/w 100 and 200\n",
        "random_array=np.random.randint(100,200,15)\n",
        "print(\"random array:\\n\",random_array)\n",
        "\n",
        "\n",
        "#create a 5*5 array with integer b/w 0 and 10\n",
        "lower_bound=0\n",
        "upper_bound=10\n",
        "random_array=np.random.rand(5,5)*(upper_bound-lower_bound)+lower_bound\n",
        "print(\"random array:\\n\",random_array)\n",
        "\n"
      ],
      "metadata": {
        "id": "VxsFzWGBqQ64",
        "colab": {
          "base_uri": "https://localhost:8080/"
        },
        "outputId": "5a7590ff-5b53-4a5d-f3a3-dd31e0dc7dbe"
      },
      "execution_count": 98,
      "outputs": [
        {
          "output_type": "stream",
          "name": "stdout",
          "text": [
            "random array: [0 0 0 0 0 0 0 0 0 0 0 0 0 0 0 0 0 0 0 0]\n",
            "random array:\n",
            " [[19 14 12 12]\n",
            " [16 17 15 19]\n",
            " [18 12 14 17]\n",
            " [17 15 19 16]]\n",
            "random array:\n",
            " [[-0.07257105  0.28382144  0.10876495]\n",
            " [-0.13392976 -0.71790583  0.59008029]\n",
            " [ 0.85846034 -0.90875687  0.06851639]]\n",
            "random array:\n",
            " [166 169 167 162 197 196 103 103 126 151 125 114 184 187 167]\n",
            "random array:\n",
            " [[1.26109671 1.12300114 6.07220466 6.3450583  4.81438774]\n",
            " [6.26130361 8.19067717 0.85697684 6.74975457 9.44995942]\n",
            " [6.88787827 4.65288984 2.830947   8.24994955 8.29088987]\n",
            " [5.61322112 8.43177171 0.29922873 2.0723679  6.02265894]\n",
            " [4.9474572  4.11105864 6.86945583 8.0944691  8.7052903 ]]\n"
          ]
        }
      ]
    },
    {
      "cell_type": "code",
      "source": [
        "#STACKING AND CONCATENATING ARRAYS\n",
        "import numpy as np\n",
        "\n",
        "#vertically stack 2 arrays\n",
        "arr_a=np.array([[1,2],[3,4]])\n",
        "arr_b=np.array([[5,6],[7,8]])\n",
        "v_stack=np.vstack((arr_a,arr_b))\n",
        "print(\"vertical stack:\\n\",v_stack)\n",
        "\n",
        "#Horizontal Stack 2 arrays\n",
        "arr_a=np.array([[1,2],[3,4]])\n",
        "arr_b=np.array([[5,6],[7,8]])\n",
        "h_stack=np.hstack((arr_a,arr_b))\n",
        "print(\"Horizontal Stack:\\n\",h_stack)\n",
        "\n",
        "\n",
        "#concatenate two 1D arrays\n",
        "arr_a=np.array([1,2,3])\n",
        "arr_b=np.array([4,5,6])\n",
        "concatenate_arr=np.concatenate((arr_a,arr_b))\n",
        "print(\"concatenate arrays:\\n\",concatenate_arr)\n",
        "\n",
        "\n",
        "#concatenate two 3*3 arrays along rows\n",
        "arr_a=np.array([[1,2,3],[4,5,6],[7,8,9]])\n",
        "arr_b=np.array([[10,11,12],[13,14,15],[16,17,18]])\n",
        "concatenate_arr=np.concatenate((arr_a,arr_b),axis=0)\n",
        "print(\"concatenate arrays:\\n\",concatenate_arr)\n",
        "\n",
        "\n",
        "\n",
        "#concatenate two 3*3 arrays along columns\n",
        "arr_a=np.array([[1,2,3],[4,5,6],[7,8,9]])\n",
        "arr_b=np.array([[10,11,12],[13,14,15],[16,17,18]])\n",
        "concatenate_arr=np.concatenate((arr_a,arr_b),axis=1)\n",
        "print(\"concatenate arrays:\\n\",concatenate_arr)"
      ],
      "metadata": {
        "colab": {
          "base_uri": "https://localhost:8080/"
        },
        "id": "-J6gcq4O5Pnw",
        "outputId": "4bcaef4e-d386-4651-d60d-baf63b039c69"
      },
      "execution_count": 99,
      "outputs": [
        {
          "output_type": "stream",
          "name": "stdout",
          "text": [
            "vertical stack:\n",
            " [[1 2]\n",
            " [3 4]\n",
            " [5 6]\n",
            " [7 8]]\n",
            "Horizontal Stack:\n",
            " [[1 2 5 6]\n",
            " [3 4 7 8]]\n",
            "concatenate arrays:\n",
            " [1 2 3 4 5 6]\n",
            "concatenate arrays:\n",
            " [[ 1  2  3]\n",
            " [ 4  5  6]\n",
            " [ 7  8  9]\n",
            " [10 11 12]\n",
            " [13 14 15]\n",
            " [16 17 18]]\n",
            "concatenate arrays:\n",
            " [[ 1  2  3 10 11 12]\n",
            " [ 4  5  6 13 14 15]\n",
            " [ 7  8  9 16 17 18]]\n"
          ]
        }
      ]
    }
  ]
}